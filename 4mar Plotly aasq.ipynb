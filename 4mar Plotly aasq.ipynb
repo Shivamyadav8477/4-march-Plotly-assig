{
 "cells": [
  {
   "cell_type": "code",
   "execution_count": null,
   "id": "506ad62b-5762-4e67-9fd9-752db095543e",
   "metadata": {},
   "outputs": [],
   "source": [
    "Q1. Load the \"titanic\" dataset using the load_dataset function of seaborn. Use Plotly express to plot a\n",
    "scatter plot for age and fare columns in the titanic dataset."
   ]
  },
  {
   "cell_type": "code",
   "execution_count": null,
   "id": "5016d635-a611-49b2-9ee1-db3dcbca86c5",
   "metadata": {},
   "outputs": [],
   "source": [
    "To load the \"titanic\" dataset using Seaborn's load_dataset function and create a scatter plot for the 'age' and 'fare' columns using Plotly Express, you'll need to convert the Seaborn DataFrame to a Plotly DataFrame. You can do this as follows:"
   ]
  },
  {
   "cell_type": "code",
   "execution_count": null,
   "id": "7a066856-b19d-4822-b69a-7fad77405e7d",
   "metadata": {},
   "outputs": [],
   "source": [
    "import seaborn as sns\n",
    "import plotly.express as px\n",
    "\n",
    "# Load the \"titanic\" dataset\n",
    "titanic_data = sns.load_dataset(\"titanic\")\n",
    "\n",
    "# Create a scatter plot using Plotly Express\n",
    "fig = px.scatter(titanic_data, x='age', y='fare', title='Scatter Plot of Age vs. Fare (Titanic Data)')\n",
    "fig.show()\n"
   ]
  },
  {
   "cell_type": "code",
   "execution_count": null,
   "id": "3da5d403-2264-4958-a94f-06f42ad8d263",
   "metadata": {},
   "outputs": [],
   "source": [
    "In this code:\n",
    "\n",
    "We load the \"titanic\" dataset using sns.load_dataset(\"titanic\") and store it in the titanic_data variable.\n",
    "\n",
    "We create a scatter plot using Plotly Express with px.scatter(). We specify 'age' as the x-axis and 'fare' as the y-axis. We also set the title for the plot using title.\n",
    "\n",
    "Finally, we use fig.show() to display the scatter plot.\n",
    "\n",
    "This code will create an interactive scatter plot using Plotly Express, allowing you to explore the relationships between 'age' and 'fare' in the \"titanic\" dataset."
   ]
  },
  {
   "cell_type": "code",
   "execution_count": null,
   "id": "69a3d639-d51b-4446-9279-dd54bb224fd3",
   "metadata": {},
   "outputs": [],
   "source": [
    "Q2. Using the tips dataset in the Plotly library, plot a box plot using Plotly express."
   ]
  },
  {
   "cell_type": "code",
   "execution_count": null,
   "id": "65613ec3-2cf2-44fd-907f-575562818ebc",
   "metadata": {},
   "outputs": [],
   "source": [
    "To plot a box plot using Plotly Express for the \"tips\" dataset, you can use the following code"
   ]
  },
  {
   "cell_type": "code",
   "execution_count": null,
   "id": "b897fa02-6565-43ea-a0e0-ab8303d43ec5",
   "metadata": {},
   "outputs": [],
   "source": [
    "import plotly.express as px\n",
    "\n",
    "# Load the tips dataset from Plotly\n",
    "tips_data = px.data.tips()\n",
    "\n",
    "# Create a box plot using Plotly Express\n",
    "fig = px.box(tips_data, x='day', y='total_bill', title='Box Plot of Total Bill by Day')\n",
    "fig.show()\n"
   ]
  },
  {
   "cell_type": "code",
   "execution_count": null,
   "id": "5f9eb6a0-0b27-4057-82f4-7171fcfaf1fd",
   "metadata": {},
   "outputs": [],
   "source": [
    "In this code:\n",
    "\n",
    "We load the \"tips\" dataset from Plotly using px.data.tips() and store it in the tips_data variable.\n",
    "\n",
    "We create a box plot using Plotly Express with px.box(). We specify 'day' as the x-axis and 'total_bill' as the y-axis. We also set the title for the plot using title.\n",
    "\n",
    "Finally, we use fig.show() to display the box plot.\n",
    "\n",
    "This code will create an interactive box plot using Plotly Express, showing the distribution of total bills by day in the \"tips\" dataset."
   ]
  },
  {
   "cell_type": "code",
   "execution_count": null,
   "id": "18895acc-e718-4fb7-9f8c-64181e79bac9",
   "metadata": {},
   "outputs": [],
   "source": [
    "Q3. Using the tips dataset in the Plotly library, Plot a histogram for x= \"sex\" and y=\"total_bill\" column in\n",
    "the tips dataset. Also, use the \"smoker\" column with the pattern_shape parameter and the \"day\"\n",
    "column with the color parameter."
   ]
  },
  {
   "cell_type": "code",
   "execution_count": null,
   "id": "82aa3333-6e88-4aa5-9312-2bef77c855a2",
   "metadata": {},
   "outputs": [],
   "source": [
    "To plot a histogram for the \"sex\" and \"total_bill\" columns in the \"tips\" dataset using Plotly Express and use the \"smoker\" column for pattern shapes and the \"day\" column for colors, you can use the following code:"
   ]
  },
  {
   "cell_type": "code",
   "execution_count": null,
   "id": "aee7f6f5-11eb-4732-b146-83d203bed374",
   "metadata": {},
   "outputs": [],
   "source": [
    "import plotly.express as px\n",
    "\n",
    "# Load the tips dataset from Plotly\n",
    "tips_data = px.data.tips()\n",
    "\n",
    "# Create a histogram with pattern_shape and color parameters\n",
    "fig = px.histogram(\n",
    "    tips_data,\n",
    "    x='sex',\n",
    "    y='total_bill',\n",
    "    color='day',\n",
    "    pattern_shape='smoker',\n",
    "    title='Histogram of Total Bill by Sex (Pattern Shapes for Smoker, Colors for Day)'\n",
    ")\n",
    "\n",
    "# Show the plot\n",
    "fig.show()\n"
   ]
  },
  {
   "cell_type": "code",
   "execution_count": null,
   "id": "7275e498-906d-4026-8b9f-82bb43022390",
   "metadata": {},
   "outputs": [],
   "source": [
    "In this code:\n",
    "\n",
    "We load the \"tips\" dataset from Plotly using px.data.tips() and store it in the tips_data variable.\n",
    "\n",
    "We create a histogram using Plotly Express with px.histogram(). We specify 'sex' as the x-axis and 'total_bill' as the y-axis.\n",
    "\n",
    "We use the color parameter to differentiate bars by the \"day\" column, and we use the pattern_shape parameter to differentiate bars by the \"smoker\" column.\n",
    "\n",
    "We set the title for the plot using title.\n",
    "\n",
    "Finally, we use fig.show() to display the histogram with the specified patterns and colors.\n",
    "\n",
    "This code will create an interactive histogram using Plotly Express, showing the distribution of total bills by sex in the \"tips\" dataset. The bars will be colored based on the \"day\" column, and the patterns within each bar will indicate whether the person is a smoker or non-smoker based on the \"smoker\" column."
   ]
  },
  {
   "cell_type": "code",
   "execution_count": null,
   "id": "129df611-f08b-4b71-a985-1e0d53031be9",
   "metadata": {},
   "outputs": [],
   "source": [
    "Q4. Using the iris dataset in the Plotly library, Plot a scatter matrix plot, using the \"species\" column for\n",
    "the color parameter.\n",
    "Note: Use \"sepal_length\", \"sepal_width\", \"petal_length\", \"petal_width\" columns only with the\n",
    "dimensions parameter."
   ]
  },
  {
   "cell_type": "code",
   "execution_count": null,
   "id": "2b32a5d2-8b1d-4e25-a78c-86d1f250b3e2",
   "metadata": {},
   "outputs": [],
   "source": [
    "To create a scatter matrix plot using the \"iris\" dataset in Plotly Express and use the \"species\" column for the color parameter, while considering only the columns \"sepal_length\", \"sepal_width\", \"petal_length\", and \"petal_width\" for the dimensions parameter, you can use the following code:"
   ]
  },
  {
   "cell_type": "code",
   "execution_count": null,
   "id": "eb9c51e1-c05c-493f-b8b4-d56e36b87edf",
   "metadata": {},
   "outputs": [],
   "source": [
    "import plotly.express as px\n",
    "\n",
    "# Load the iris dataset from Plotly\n",
    "iris_data = px.data.iris()\n",
    "\n",
    "# Create a scatter matrix plot\n",
    "fig = px.scatter_matrix(\n",
    "    iris_data,\n",
    "    dimensions=[\"sepal_length\", \"sepal_width\", \"petal_length\", \"petal_width\"],\n",
    "    color=\"species\",\n",
    "    title=\"Scatter Matrix Plot of Iris Dataset by Species\"\n",
    ")\n",
    "\n",
    "# Show the plot\n",
    "fig.show()\n"
   ]
  },
  {
   "cell_type": "code",
   "execution_count": null,
   "id": "3156f212-9c51-46f2-a8ff-87b34292659b",
   "metadata": {},
   "outputs": [],
   "source": [
    "In this code:\n",
    "\n",
    "We load the \"iris\" dataset from Plotly using px.data.iris() and store it in the iris_data variable.\n",
    "\n",
    "We create a scatter matrix plot using Plotly Express with px.scatter_matrix(). We specify the dimensions as [\"sepal_length\", \"sepal_width\", \"petal_length\", \"petal_width\"] to consider only these columns for the scatter matrix.\n",
    "\n",
    "We use the color parameter to differentiate data points by the \"species\" column.\n",
    "\n",
    "We set the title for the plot using title.\n",
    "\n",
    "Finally, we use fig.show() to display the scatter matrix plot.\n",
    "\n",
    "This code will create an interactive scatter matrix plot in Plotly Express, where each combination of the specified dimensions will be plotted against each other. The color of the points will indicate the \"species\" of the iris flowers, allowing you to visualize the relationships between these dimensions for different species."
   ]
  },
  {
   "cell_type": "code",
   "execution_count": null,
   "id": "9d12e562-a8d4-4c68-aa5e-efc5f760ad87",
   "metadata": {},
   "outputs": [],
   "source": [
    "Q5. What is Distplot? Using Plotly express, plot a distplot."
   ]
  },
  {
   "cell_type": "code",
   "execution_count": null,
   "id": "fa198194-54ab-4a51-b76a-478f93acc05f",
   "metadata": {},
   "outputs": [],
   "source": [
    "A Distplot (Distribution Plot) is a type of plot that is used to visualize the distribution of a univariate dataset. It combines a histogram with a kernel density estimate (KDE) plot to provide insights into the underlying probability distribution of the data.\n",
    "\n",
    "To create a Distplot using Plotly Express, you can use the following code as an example:"
   ]
  },
  {
   "cell_type": "code",
   "execution_count": null,
   "id": "822c5cce-7bf2-4328-bcbe-75872867d9a2",
   "metadata": {},
   "outputs": [],
   "source": [
    "import plotly.express as px\n",
    "\n",
    "# Sample data (replace with your own dataset)\n",
    "data = [1.2, 1.5, 1.6, 1.8, 2.0, 2.2, 2.2, 2.3, 2.5, 2.7, 2.7, 2.8, 3.0, 3.1, 3.2]\n",
    "\n",
    "# Create a Distplot\n",
    "fig = px.histogram(data, x=data, nbins=10, title='Distplot Example', labels={'x': 'Value'}, opacity=0.7)\n",
    "\n",
    "# Add a KDE plot\n",
    "fig.update_traces(histnorm='probability density', marker=dict(line=dict(width=2, color='DarkSlateGrey')))\n",
    "\n",
    "# Show the plot\n",
    "fig.show()\n"
   ]
  },
  {
   "cell_type": "code",
   "execution_count": null,
   "id": "446147d7-4aaf-44e5-b859-69e271066c27",
   "metadata": {},
   "outputs": [],
   "source": [
    "In this code:\n",
    "\n",
    "We create a sample dataset called data. You can replace it with your own dataset.\n",
    "\n",
    "We use px.histogram() to create a histogram and set the nbins parameter to control the number of bins in the histogram. We also set the title and labels for the plot.\n",
    "\n",
    "We use fig.update_traces() to add a KDE plot to the histogram. The histnorm='probability density' option normalizes the histogram, and we customize the appearance of the KDE plot using marker.\n",
    "\n",
    "Finally, we use fig.show() to display the Distplot.\n",
    "\n",
    "This code will create a Distplot using Plotly Express, showing both the histogram and the kernel density estimate plot. It provides insights into the distribution of the data and can be a useful tool for understanding the shape of a dataset's distribution"
   ]
  }
 ],
 "metadata": {
  "kernelspec": {
   "display_name": "Python 3 (ipykernel)",
   "language": "python",
   "name": "python3"
  },
  "language_info": {
   "codemirror_mode": {
    "name": "ipython",
    "version": 3
   },
   "file_extension": ".py",
   "mimetype": "text/x-python",
   "name": "python",
   "nbconvert_exporter": "python",
   "pygments_lexer": "ipython3",
   "version": "3.10.6"
  }
 },
 "nbformat": 4,
 "nbformat_minor": 5
}
